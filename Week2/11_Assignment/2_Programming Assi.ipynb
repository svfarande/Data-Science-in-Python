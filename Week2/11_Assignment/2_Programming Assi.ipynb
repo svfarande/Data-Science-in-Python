{
 "cells": [
  {
   "cell_type": "code",
   "execution_count": 1,
   "metadata": {},
   "outputs": [],
   "source": [
    "import pandas as pd"
   ]
  },
  {
   "cell_type": "markdown",
   "metadata": {},
   "source": [
    "## Question 1\n",
    "Write a function called `proportion_of_education` which returns the proportion of children in the dataset who had a mother with the education levels equal to less than high school (<12), high school (12), more than high school but not a college graduate (>12) and college degree.\n",
    "\n",
    "*This function should return a dictionary in the form of (use the correct numbers, do not round numbers):* \n",
    "```\n",
    "    {\"less than high school\":0.2,\n",
    "    \"high school\":0.4,\n",
    "    \"more than high school but not college\":0.2,\n",
    "    \"college\":0.2}\n",
    "```"
   ]
  },
  {
   "cell_type": "code",
   "execution_count": 22,
   "metadata": {},
   "outputs": [
    {
     "name": "stdout",
     "output_type": "stream",
     "text": [
      "28465\n"
     ]
    },
    {
     "data": {
      "text/plain": [
       "{'less than high school': 0.10202002459160373,\n",
       " 'high school': 0.172352011241876,\n",
       " 'more than high school but not college': 0.24588090637625154,\n",
       " 'college': 0.47974705779026877}"
      ]
     },
     "execution_count": 22,
     "metadata": {},
     "output_type": "execute_result"
    }
   ],
   "source": [
    "def proportion_of_education():\n",
    "    # your code goes here\n",
    "    # YOUR CODE HERE\n",
    "    df = pd.read_csv('NISPUF17.csv')\n",
    "    total = len(df['EDUC1'])\n",
    "    # print(total)\n",
    "    # print((len(df[df['EDUC1']==1])/total)+(len(df[df['EDUC1']==2])/total)+(len(df[df['EDUC1']==3])/total)+(len(df[df['EDUC1']==4])/total))\n",
    "    return {'less than high school':len(df[df['EDUC1']==1])/total,\n",
    "            'high school':len(df[df['EDUC1']==2])/total,\n",
    "            'more than high school but not college':len(df[df['EDUC1']==3])/total,\n",
    "            'college':len(df[df['EDUC1']==4])/total}\n",
    "proportion_of_education()"
   ]
  },
  {
   "cell_type": "markdown",
   "metadata": {},
   "source": [
    "## Question 2\n",
    "\n",
    "Let's explore the relationship between being fed breastmilk as a child and getting a seasonal influenza vaccine from a healthcare provider. Return a tuple of the average number of influenza vaccines for those children we know received breastmilk as a child and those who know did not.\n",
    "\n",
    "*This function should return a tuple in the form (use the correct numbers:*\n",
    "```\n",
    "(2.5, 0.1)\n",
    "```"
   ]
  },
  {
   "cell_type": "code",
   "execution_count": 21,
   "metadata": {},
   "outputs": [
    {
     "data": {
      "text/plain": [
       "(1.8799187420058687, 1.5963945918878317)"
      ]
     },
     "execution_count": 21,
     "metadata": {},
     "output_type": "execute_result"
    }
   ],
   "source": [
    "def average_influenza_doses():\n",
    "    df = pd.read_csv('NISPUF17.csv')\n",
    "    df = df[['CBF_01', 'P_NUMFLU']]\n",
    "    df.dropna(inplace=True)\n",
    "    total_breast_fed = len(df[df['CBF_01']==1])\n",
    "    total_not_breast_fed = len(df[df['CBF_01']==2])\n",
    "    total_dose_breast_fed = df[df['CBF_01']==1]['P_NUMFLU'].sum()\n",
    "    total_dose_not_breast_fed = df[df['CBF_01']==2]['P_NUMFLU'].sum()\n",
    "    return (total_dose_breast_fed/total_breast_fed) , (total_dose_not_breast_fed/total_not_breast_fed)\n",
    "average_influenza_doses()"
   ]
  },
  {
   "cell_type": "markdown",
   "metadata": {},
   "source": [
    "## Question 3\n",
    "It would be interesting to see if there is any evidence of a link between vaccine effectiveness and sex of the child. Calculate the ratio of the number of children who contracted chickenpox but were vaccinated against it (at least one varicella dose) versus those who were vaccinated but did not contract chicken pox. Return results by sex. \n",
    "\n",
    "*This function should return a dictionary in the form of (use the correct numbers):* \n",
    "```\n",
    "    {\"male\":0.2,\n",
    "    \"female\":0.4}\n",
    "```\n",
    "\n",
    "Note: To aid in verification, the `chickenpox_by_sex()['female']` value the autograder is looking for starts with the digits `0.0077`."
   ]
  },
  {
   "cell_type": "code",
   "execution_count": 23,
   "metadata": {},
   "outputs": [
    {
     "data": {
      "text/plain": [
       "{'male': 0.009675583380762664, 'female': 0.0077918259335489565}"
      ]
     },
     "execution_count": 23,
     "metadata": {},
     "output_type": "execute_result"
    }
   ],
   "source": [
    "def chickenpox_by_sex():\n",
    "    df = pd.read_csv('NISPUF17.csv')\n",
    "    df = df[['HAD_CPOX', 'SEX', 'P_NUMVRC']]\n",
    "    df.dropna(inplace=True)\n",
    "    \n",
    "    df_m_and_vaccinated = df[(df['SEX']==1) & (df['P_NUMVRC'] > 0)]\n",
    "    m_got_cpox = len(df_m_and_vaccinated[df_m_and_vaccinated['HAD_CPOX']==1])\n",
    "    m_didnt_got_cpox = len(df_m_and_vaccinated[df_m_and_vaccinated['HAD_CPOX']==2])\n",
    "    \n",
    "    df_f_and_vaccinated = df[(df['SEX']==2) & (df['P_NUMVRC'] > 0)]\n",
    "    f_got_cpox = len(df_f_and_vaccinated[df_f_and_vaccinated['HAD_CPOX']==1])\n",
    "    f_didnt_got_cpox = len(df_f_and_vaccinated[df_f_and_vaccinated['HAD_CPOX']==2])\n",
    "    \n",
    "    return {'male':m_got_cpox/m_didnt_got_cpox,\n",
    "            'female':f_got_cpox/f_didnt_got_cpox}\n",
    "chickenpox_by_sex()"
   ]
  },
  {
   "cell_type": "markdown",
   "metadata": {},
   "source": [
    "## Question 4\n",
    "A correlation is a statistical relationship between two variables. If we wanted to know if vaccines work, we might look at the correlation between the use of the vaccine and whether it results in prevention of the infection or disease [1]. In this question, you are to see if there is a correlation between having had the chicken pox and the number of chickenpox vaccine doses given (varicella).\n",
    "\n",
    "Some notes on interpreting the answer. The `had_chickenpox_column` is either `1` (for yes) or `2` (for no), and the `num_chickenpox_vaccine_column` is the number of doses a child has been given of the varicella vaccine. A positive correlation (e.g., `corr > 0`) means that an increase in `had_chickenpox_column` (which means more no’s) would also increase the values of `num_chickenpox_vaccine_column` (which means more doses of vaccine). If there is a negative correlation (e.g., `corr < 0`), it indicates that having had chickenpox is related to an increase in the number of vaccine doses.\n",
    "\n",
    "Also, `pval` is the probability that we observe a correlation between `had_chickenpox_column` and `num_chickenpox_vaccine_column` which is greater than or equal to a particular value occurred by chance. A small `pval` means that the observed correlation is highly unlikely to occur by chance. In this case, `pval` should be very small (will end in `e-18` indicating a very small number).\n",
    "\n",
    "[1] This isn’t really the full picture, since we are not looking at when the dose was given. It’s possible that children had chickenpox and then their parents went to get them the vaccine. Does this dataset have the data we would need to investigate the timing of the dose?"
   ]
  },
  {
   "cell_type": "code",
   "execution_count": 30,
   "metadata": {},
   "outputs": [
    {
     "data": {
      "text/plain": [
       "0.07044873460147984"
      ]
     },
     "execution_count": 30,
     "metadata": {},
     "output_type": "execute_result"
    }
   ],
   "source": [
    "def corr_chickenpox():\n",
    "    import scipy.stats as stats\n",
    "    df = pd.read_csv('NISPUF17.csv')\n",
    "    df = df[['HAD_CPOX', 'P_NUMVRC']]\n",
    "    df.dropna(inplace=True)\n",
    "    df = df[df['HAD_CPOX'] < 3]\n",
    "    corr, pval = stats.pearsonr(df[\"HAD_CPOX\"],df[\"P_NUMVRC\"])\n",
    "    return corr\n",
    "    \n",
    "corr_chickenpox()\n",
    "    #import scipy.stats as stats\n",
    "    #import numpy as np\n",
    "    #import pandas as pd\n",
    "    \n",
    "    #this is just an example dataframe\n",
    "    #df=pd.DataFrame({\"had_chickenpox_column\":np.random.randint(1,3,size=(100)),\n",
    "                   #\"num_chickenpox_vaccine_column\":np.random.randint(0,6,size=(100))})\n",
    "\n",
    "    #here is some stub code to actually run the correlation\n",
    "    #corr, pval=stats.pearsonr(df[\"had_chickenpox_column\"],df[\"num_chickenpox_vaccine_column\"])\n",
    "    \n",
    "    # just return the correlation\n",
    "    #return corr\n",
    "\n",
    "    # YOUR CODE HERE\n",
    "    #raise NotImplementedError()"
   ]
  }
 ],
 "metadata": {
  "kernelspec": {
   "display_name": "Python 3",
   "language": "python",
   "name": "python3"
  },
  "language_info": {
   "codemirror_mode": {
    "name": "ipython",
    "version": 3
   },
   "file_extension": ".py",
   "mimetype": "text/x-python",
   "name": "python",
   "nbconvert_exporter": "python",
   "pygments_lexer": "ipython3",
   "version": "3.8.5"
  }
 },
 "nbformat": 4,
 "nbformat_minor": 4
}
